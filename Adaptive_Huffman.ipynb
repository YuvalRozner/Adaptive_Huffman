{
  "cells": [
    {
      "cell_type": "markdown",
      "metadata": {
        "id": "view-in-github",
        "colab_type": "text"
      },
      "source": [
        "<a href=\"https://colab.research.google.com/github/YuvalRozner/Adaptive_Huffman/blob/main/Adaptive_Huffman.ipynb\" target=\"_parent\"><img src=\"https://colab.research.google.com/assets/colab-badge.svg\" alt=\"Open In Colab\"/></a>"
      ]
    },
    {
      "cell_type": "markdown",
      "metadata": {
        "id": "eNLKUWmWqmCY"
      },
      "source": [
        "## pips:"
      ]
    },
    {
      "cell_type": "code",
      "execution_count": 1,
      "metadata": {
        "id": "3pQqtTzKquFr"
      },
      "outputs": [],
      "source": [
        "%%capture output\n",
        "!pip install tqdm\n",
        "!pip install graphviz\n",
        "!pip install moviepy"
      ]
    },
    {
      "cell_type": "markdown",
      "metadata": {
        "id": "VEyaizj-ANbf"
      },
      "source": [
        " ## Generating Text"
      ]
    },
    {
      "cell_type": "code",
      "execution_count": 2,
      "metadata": {
        "colab": {
          "base_uri": "https://localhost:8080/"
        },
        "id": "nqEhgPqUAG_5",
        "outputId": "d399e3ed-0da2-408b-ecdd-af5fc2114df1"
      },
      "outputs": [
        {
          "output_type": "stream",
          "name": "stdout",
          "text": [
            "Generated text length: 10000000\n",
            "Blocks: 552\n",
            "Block size: 18115\n"
          ]
        }
      ],
      "source": [
        "import random\n",
        "import string\n",
        "\n",
        "def generate_random_word(length): # randomize a word\n",
        "    return ''.join(random.choices(string.ascii_lowercase, k=length))\n",
        "\n",
        "def create_text(blocks, block_size, total_length): # create the text\n",
        "    text = []\n",
        "    for _ in range(blocks+1):\n",
        "        word = generate_random_word(8)\n",
        "        repeat_count = block_size // len(word)\n",
        "        text.append(word * repeat_count)\n",
        "    return ''.join(text)[:total_length]\n",
        "\n",
        "blocks = 552 #last 3 digit of my ID number\n",
        "total_length = 10000000 # 10Mega\n",
        "block_size = total_length // blocks\n",
        "\n",
        "text = create_text(blocks, block_size, total_length)\n",
        "\n",
        "# Save the text to a txt file\n",
        "with open(\"rozner_text2.txt\", \"w\") as file:\n",
        "    file.write(text)\n",
        "\n",
        "print(f\"Generated text length: {len(text)}\")\n",
        "print(f\"Blocks: {blocks}\")\n",
        "print(f\"Block size: {block_size}\")"
      ]
    },
    {
      "cell_type": "markdown",
      "metadata": {
        "id": "ZNe2oUfPdxG0"
      },
      "source": [
        "# My Adaptive Huffman:"
      ]
    },
    {
      "cell_type": "markdown",
      "metadata": {
        "id": "Ixer2QtRIfje"
      },
      "source": [
        "## Table codes:"
      ]
    },
    {
      "cell_type": "markdown",
      "metadata": {
        "id": "MhtE1Oy9S0rt"
      },
      "source": [
        "### Codes class:"
      ]
    },
    {
      "cell_type": "code",
      "execution_count": 3,
      "metadata": {
        "id": "pSFMe5NvIiEz"
      },
      "outputs": [],
      "source": [
        "import math\n",
        "\n",
        "class CharCodeDict:\n",
        "    def __init__(self):\n",
        "        self.char_code_dict = {}\n",
        "        self.char_code_dict_create()\n",
        "\n",
        "    def char_code_dict_create(self):\n",
        "        \"\"\"Generate binary codes for the English alphabet based on their position.\"\"\"\n",
        "        m = 26  # Number of characters in the alphabet\n",
        "        e = int(math.floor(math.log2(m)))  # Length of the binary code\n",
        "        r = m - 2 ** e  # Remaining characters after 2^e\n",
        "        for k in range(1, m + 1):\n",
        "            if 1 <= k <= 2 * r:\n",
        "                self.char_code_dict[chr(97 + k - 1)] = format(k - 1, f'0{e + 1}b')\n",
        "            else:\n",
        "                self.char_code_dict[chr(97 + k - 1)] = format(k - r - 1, f'0{e}b')\n",
        "\n",
        "    def get_code(self, char):\n",
        "        return self.char_code_dict[char]\n",
        "\n",
        "    def get_char(self, code):\n",
        "        for char, binary_code in self.char_code_dict.items():\n",
        "            if code == binary_code:\n",
        "                return char\n",
        "        return None\n",
        "\n",
        "    def get_codes(self):\n",
        "        return self.char_code_dict\n",
        "\n"
      ]
    },
    {
      "cell_type": "markdown",
      "metadata": {
        "id": "8uc6urZIm2-s"
      },
      "source": [
        "## Node class"
      ]
    },
    {
      "cell_type": "code",
      "execution_count": 4,
      "metadata": {
        "id": "CburHptzfB4k"
      },
      "outputs": [],
      "source": [
        "class Node:\n",
        "    def __init__(self, symbol=None, weight=0, index=None, parent=None): # the node constructor.\n",
        "        self.symbol = symbol\n",
        "        self.weight = weight\n",
        "        self.left = None\n",
        "        self.right = None\n",
        "        self.parent = parent\n",
        "        self.index = index\n",
        "\n",
        "    def __repr__(self):\n",
        "        return f\"Node(symbol={self.symbol}, weight={self.weight}, index={self.index})\""
      ]
    },
    {
      "cell_type": "markdown",
      "metadata": {
        "id": "YiyBCkUvnHgr"
      },
      "source": [
        "## Tree class:"
      ]
    },
    {
      "cell_type": "code",
      "execution_count": 5,
      "metadata": {
        "id": "JETXGLeOnAQD",
        "colab": {
          "base_uri": "https://localhost:8080/",
          "height": 220
        },
        "outputId": "76e90916-c1c8-48c0-cd93-cf6df92a2348"
      },
      "outputs": [
        {
          "output_type": "error",
          "ename": "FileNotFoundError",
          "evalue": "[Errno 2] No such file or directory: '/content/rozner_text.txt'",
          "traceback": [
            "\u001b[0;31m---------------------------------------------------------------------------\u001b[0m",
            "\u001b[0;31mFileNotFoundError\u001b[0m                         Traceback (most recent call last)",
            "\u001b[0;32m<ipython-input-5-5354508a3829>\u001b[0m in \u001b[0;36m<cell line: 179>\u001b[0;34m()\u001b[0m\n\u001b[1;32m    177\u001b[0m \u001b[0;34m\u001b[0m\u001b[0m\n\u001b[1;32m    178\u001b[0m \u001b[0mtree\u001b[0m \u001b[0;34m=\u001b[0m \u001b[0mTree\u001b[0m\u001b[0;34m(\u001b[0m\u001b[0;34m)\u001b[0m\u001b[0;34m\u001b[0m\u001b[0;34m\u001b[0m\u001b[0m\n\u001b[0;32m--> 179\u001b[0;31m \u001b[0;32mwith\u001b[0m \u001b[0mopen\u001b[0m\u001b[0;34m(\u001b[0m\u001b[0;34m\"/content/rozner_text.txt\"\u001b[0m\u001b[0;34m,\u001b[0m \u001b[0;34m\"r\"\u001b[0m\u001b[0;34m)\u001b[0m \u001b[0;32mas\u001b[0m \u001b[0mfile\u001b[0m\u001b[0;34m:\u001b[0m\u001b[0;34m\u001b[0m\u001b[0;34m\u001b[0m\u001b[0m\n\u001b[0m\u001b[1;32m    180\u001b[0m     \u001b[0mtext\u001b[0m \u001b[0;34m=\u001b[0m \u001b[0mfile\u001b[0m\u001b[0;34m.\u001b[0m\u001b[0mread\u001b[0m\u001b[0;34m(\u001b[0m\u001b[0;34m)\u001b[0m\u001b[0;34m\u001b[0m\u001b[0;34m\u001b[0m\u001b[0m\n\u001b[1;32m    181\u001b[0m \u001b[0;34m\u001b[0m\u001b[0m\n",
            "\u001b[0;31mFileNotFoundError\u001b[0m: [Errno 2] No such file or directory: '/content/rozner_text.txt'"
          ]
        }
      ],
      "source": [
        "from ctypes import alignment\n",
        "from tqdm import tqdm\n",
        "\n",
        "class Tree:\n",
        "    def __init__(self): # the tree constructor. \"\"\"\"\n",
        "        self.root = Node(symbol=\"nyt\", weight=0, index=51) # root begins as a new nyt.\n",
        "        self.NYT = self.root # always keep a pointer to the nyt node. (biggins being the root itself.)\n",
        "        self.char_to_node = [None] * 26  # Initialize with 26 None values\n",
        "        self.char_code_dict = CharCodeDict()\n",
        "        self.imgCounter = 0\n",
        "\n",
        "\n",
        "    def insert(self, symbol): # insert a new node into the tree if not yet exist.\n",
        "        found = self.char_to_node[ord(symbol) - ord('a')]\n",
        "        if found:\n",
        "            found.weight += 1\n",
        "            self.increase_weight(found.parent)\n",
        "        else:\n",
        "            self.insertNew(symbol)\n",
        "\n",
        "\n",
        "    def insertNew(self, symbol): # insert a new node and a new nyt on the old nyt.\n",
        "        currentNYTnode = self.NYT\n",
        "        ind = currentNYTnode.index - 2 # calc the index values for the sons.\n",
        "        currentNYTnode.left = Node('nyt', 0, index=ind, parent=currentNYTnode) # new NYT in left.\n",
        "        currentNYTnode.right = Node(symbol, 1, index=ind+1, parent=currentNYTnode) # new symbol son in right.\n",
        "        dic_ind = ord(symbol) - ord('a')\n",
        "        self.char_to_node[dic_ind] = currentNYTnode.right # add the symbol to the dictionary.\n",
        "        self.increase_weight(currentNYTnode) # going up the tree and increase the weights.\n",
        "        self.NYT = self.NYT.left # set the NYT to the left son.\n",
        "\n",
        "        # if self.imgCounter<350 or self.imgCounter>659600: self.visualize(filename = 'images/tree_'+str(self.imgCounter).zfill(6))\n",
        "        # self.imgCounter+=1\n",
        "\n",
        "\n",
        "    def increase_weight(self, node): # recursively goes up the tree and increase the weights.\n",
        "        if node:\n",
        "            swapWith = self.find_node_to_swap(node)\n",
        "            if(swapWith):\n",
        "                self.swap_nodes(node, swapWith)\n",
        "            node.weight += 1\n",
        "            if node.parent:\n",
        "                self.increase_weight(node.parent)\n",
        "\n",
        "\n",
        "    def find_node_to_swap(self, target_node):\n",
        "        def search(node):\n",
        "            if node is None: return None\n",
        "            if node.weight < target_node.weight: return None\n",
        "            if node.index < target_node.index: return None\n",
        "            if node != target_node and node.weight == target_node.weight:\n",
        "                return node\n",
        "            right_result = search(node.right)\n",
        "            left_result = None\n",
        "            if node.right and (node.weight - node.right.weight) >= target_node.weight:\n",
        "                left_result = search(node.left)\n",
        "            if left_result and right_result:\n",
        "                if left_result.weight == target_node.weight and right_result.weight == target_node.weight:\n",
        "                    return left_result if left_result.index > right_result.index else right_result\n",
        "                elif left_result.weight == target_node.weight:\n",
        "                    return left_result\n",
        "                elif right_result.weight == target_node.weight:\n",
        "                    return right_result\n",
        "            return left_result or right_result\n",
        "\n",
        "        best_node = search(self.root)\n",
        "        return best_node if best_node and best_node.index > target_node.index else None\n",
        "\n",
        "\n",
        "    def swap_nodes(self, node1, node2): # Swap two nodes in the tree.\n",
        "        # Swap the parents\n",
        "        node1.parent, node2.parent = node2.parent, node1.parent\n",
        "        # Update the parent 1's left or right child pointers\n",
        "        if node1.parent:\n",
        "            if node1.parent.left == node2: node1.parent.left = node1\n",
        "            else: node1.parent.right = node1\n",
        "        if node2.parent:\n",
        "            if node2.parent.left == node1:  node2.parent.left = node2\n",
        "            else: node2.parent.right = node2\n",
        "        node1.index, node2.index = node2.index, node1.index # Swap the indices\n",
        "\n",
        "        # if self.imgCounter<350 or self.imgCounter>659600: self.visualize(filename = 'images/tree_'+str(self.imgCounter).zfill(6))\n",
        "        # self.imgCounter+=1\n",
        "\n",
        "\n",
        "    def find_path_to_root(self, target_node):\n",
        "        path = \"\"\n",
        "        current = target_node\n",
        "        while current.parent:\n",
        "            if current.parent.left is current: path = \"0\" + path\n",
        "            elif current.parent.right is current: path = \"1\" + path\n",
        "            current = current.parent\n",
        "        return path\n",
        "\n",
        "\n",
        "    def divide_node_weight_by_two(self):\n",
        "        for node in self.char_to_node:\n",
        "          if node:\n",
        "            node.weight = math.ceil(node.weight / 2)\n",
        "        self.fix_parent_weight()\n",
        "\n",
        "\n",
        "    def fix_parent_weight(self):\n",
        "        # Helper function to perform post-order traversal\n",
        "        def post_order_traversal(node):\n",
        "            if node is None: return 0\n",
        "            if node in self.char_to_node: return node.weight\n",
        "            left_weight = post_order_traversal(node.left)\n",
        "            right_weight = post_order_traversal(node.right)\n",
        "            # Update the weight of the current node\n",
        "            if node.left is not None and node.right is not None:\n",
        "                node.weight = node.left.weight + node.right.weight\n",
        "            elif node.left is not None:\n",
        "                node.weight = node.left.weight\n",
        "            elif node.right is not None:\n",
        "                node.weight = node.right.weight\n",
        "            else:\n",
        "                node.weight = 0  # Leaf nodes\n",
        "            return node.weight\n",
        "        # Start the traversal from the root\n",
        "        post_order_traversal(self.root)\n",
        "\n",
        "    def encode_text(self, text, inertion, with_inertion=False):\n",
        "        encoded_string = \"\"\n",
        "        i = 1\n",
        "        for char in tqdm(text, desc=\"yuval\"):\n",
        "            dic_ind = ord(char) - ord('a')\n",
        "            if self.char_to_node[dic_ind] is None:\n",
        "                nyt_code = self.find_path_to_root(self.NYT)\n",
        "                char_code = self.char_code_dict.get_code(char)\n",
        "                encoded_string += nyt_code + char_code\n",
        "                self.insert(char)\n",
        "            else:\n",
        "                path_code = self.find_path_to_root(self.char_to_node[dic_ind])\n",
        "                encoded_string += path_code\n",
        "                self.insert(char)\n",
        "\n",
        "            if with_inertion and i % inertion == 0:\n",
        "                self.divide_node_weight_by_two()\n",
        "            i += 1\n",
        "        return encoded_string\n",
        "\n",
        "\n",
        "    def visualize(self, filename, isDisplay = False):\n",
        "        from graphviz import Digraph\n",
        "        from IPython.display import display, Image\n",
        "        if not self.root: return\n",
        "        dot = Digraph()\n",
        "        dot.attr(label='Adaptive Huffman Coding Tree\\nYuval Rozner', fontsize='30', labelloc='t')\n",
        "        #dot.attr(size=\"16!,16!\")\n",
        "        #dot.attr(ratio='fill')\n",
        "        # Add nodes and edges\n",
        "        def add_nodes_edges(node):\n",
        "            if node:\n",
        "                # Assign node labels\n",
        "                node_label = f'( {node.symbol} )\\n{node.weight} |  #{node.index}'\n",
        "                if node.symbol=='nyt': node_label = f'{node.weight} |  #{node.index}'\n",
        "                if self.NYT == node: node_label = f'(NYT)\\n#{node.index}'\n",
        "                # Assign colors\n",
        "                node_color = 'lightblue' if node.symbol != 'nyt' else 'lightgreen' if self.NYT == node else 'lightgrey'\n",
        "                # Create the main node with color\n",
        "                dot.node(str(id(node)), node_label, style='filled', fillcolor=node_color, shape='circle', margin='0.005')\n",
        "                # Add edges to\n",
        "                if node.left:\n",
        "                    dot.edge(str(id(node)), str(id(node.left)), label='0', color='green')\n",
        "                    add_nodes_edges(node.left)\n",
        "                if node.right:\n",
        "                    dot.edge(str(id(node)), str(id(node.right)), label='1', color='darkgreen')\n",
        "                    add_nodes_edges(node.right)\n",
        "        add_nodes_edges(self.root)\n",
        "        # Render the graph to a PNG file\n",
        "        dot.format = 'png'\n",
        "        dot.render(filename, format='png', cleanup=True)\n",
        "        # Display the graph inline\n",
        "        if isDisplay: display(Image(filename = filename+'.png'))\n",
        "\n",
        "\n",
        "tree = Tree()\n",
        "with open(\"/content/rozner_text.txt\", \"r\") as file:\n",
        "    text = file.read()\n",
        "\n",
        "encoded_text = tree.encode_text(text, with_inertion=True, inertion=173)\n",
        "min_len = len(encoded_text)\n",
        "print( f\"\\n --------output ecncoded len: {len(encoded_text)}\")\n",
        "\n",
        "tree.visualize(isDisplay=True, filename = 'final_tree - without inertion')\n",
        "\n"
      ]
    },
    {
      "cell_type": "markdown",
      "metadata": {
        "id": "KxvqLj6GzGfn"
      },
      "source": [
        "## Creating Video:"
      ]
    },
    {
      "cell_type": "code",
      "execution_count": null,
      "metadata": {
        "id": "p_r9RwX8zFy_"
      },
      "outputs": [],
      "source": [
        "import moviepy.editor as mp\n",
        "import os\n",
        "\n",
        "def create_video(image_folder, output_video, fps=1):\n",
        "    # List all the images in the folder\n",
        "    images = [img for img in os.listdir(image_folder) if img.endswith(\".png\")]\n",
        "    # Sort the images by filename (to maintain sequence)\n",
        "    images.sort()\n",
        "\n",
        "    # Create a list of image clips\n",
        "    image_clips = [mp.ImageClip(os.path.join(image_folder, img)).set_duration(1) for img in images]\n",
        "\n",
        "    # Concatenate the image clips\n",
        "    video = mp.concatenate_videoclips(image_clips, method=\"compose\")\n",
        "\n",
        "    # Write the video to a file\n",
        "    video.write_videofile(output_video, fps=fps)\n",
        "\n",
        "# Example usage\n",
        "speed = 10\n",
        "create_video('images/', f'output_video_fps{speed}.mp4', fps=speed)"
      ]
    },
    {
      "cell_type": "markdown",
      "source": [
        "## Plots:"
      ],
      "metadata": {
        "id": "Gu7RIauAT1C-"
      }
    },
    {
      "cell_type": "code",
      "source": [
        "import pandas as pd\n",
        "import matplotlib.pyplot as plt\n",
        "\n",
        "def plot_encoded_text_len_with_zoom(file_path):\n",
        "    # Read the file into a pandas DataFrame\n",
        "    df = pd.read_csv(file_path)\n",
        "\n",
        "    # Find the minimum value and its index\n",
        "    min_value = df['EncodedTextLen'].min()\n",
        "    min_index = df['EncodedTextLen'].idxmin()\n",
        "    min_iteration = df['Iteration'][min_index]\n",
        "\n",
        "    # Define a window around the minimum value for zooming\n",
        "    window_size = 10  # Number of iterations to include on each side of the min value\n",
        "    start_index = max(min_index - window_size, 0)\n",
        "    end_index = min(min_index + window_size, len(df) - 1)\n",
        "\n",
        "    # Apply a custom style\n",
        "    plt.style.use('seaborn-darkgrid')\n",
        "\n",
        "    # Main Plot\n",
        "    plt.figure(figsize=(12, 7))\n",
        "    plt.plot(df['Iteration'], df['EncodedTextLen'], marker='o', linestyle='-', color='blue', label='Encoded Text Length')\n",
        "    plt.title('Encoded Text Length Over Iterations', fontsize=16, fontweight='bold')\n",
        "    plt.xlabel('Iteration', fontsize=14)\n",
        "    plt.ylabel('Encoded Text Length', fontsize=14)\n",
        "    plt.grid(True)\n",
        "\n",
        "    # Annotate the minimum value\n",
        "    plt.annotate(f'Min: {min_value}', xy=(min_iteration, min_value), xytext=(min_iteration, min_value + 100),\n",
        "                 arrowprops=dict(facecolor='black', shrink=0.05), fontsize=12, fontweight='bold')\n",
        "\n",
        "    # Highlight the zoomed-in area\n",
        "    plt.axvspan(df['Iteration'][start_index], df['Iteration'][end_index], color='gray', alpha=0.2, label='Zoomed Area')\n",
        "\n",
        "    plt.legend()\n",
        "    plt.savefig('encoded_text_length_over_iterations1.png', format='png')\n",
        "    plt.show()\n",
        "\n",
        "    # Zoomed-in Plot\n",
        "    plt.figure(figsize=(12, 7))\n",
        "    plt.plot(df['Iteration'][start_index:end_index + 1], df['EncodedTextLen'][start_index:end_index + 1], marker='o', linestyle='-', color='green')\n",
        "    plt.title(f'Zoomed In: Encoded Text Length Around Minimum Value (Iteration {min_iteration})', fontsize=16, fontweight='bold')\n",
        "    plt.xlabel('Iteration', fontsize=14)\n",
        "    plt.ylabel('Encoded Text Length', fontsize=14)\n",
        "    plt.grid(True)\n",
        "\n",
        "     # Highlight the zoomed-in area\n",
        "#   window_size = 10  # Number of iterations to include on each side of the min value\n",
        "#   start_index = max(min_index - window_size, 0)\n",
        "#    end_index = min(min_index + window_size, len(df) - 1)\n",
        "#    plt.axvspan(df['Iteration'][start_index], df['Iteration'][end_index], color='gray', alpha=0.2, label='Zoomed Area')\n",
        "\n",
        "    plt.legend()\n",
        "    plt.savefig('encoded_text_length_over_iterations3.png', format='png')\n",
        "    plt.show()\n",
        "\n",
        "# Path to the uploaded file\n",
        "file_path = '/content/rozner_text_log1.txt'\n",
        "\n",
        "plot_encoded_text_len_with_zoom(file_path)"
      ],
      "metadata": {
        "id": "yIIlVA59wLc-"
      },
      "execution_count": null,
      "outputs": []
    }
  ],
  "metadata": {
    "colab": {
      "collapsed_sections": [
        "eNLKUWmWqmCY",
        "Ixer2QtRIfje",
        "MhtE1Oy9S0rt",
        "AfmqB9L-S3wC",
        "8uc6urZIm2-s"
      ],
      "provenance": [],
      "authorship_tag": "ABX9TyPE7aangMt9eAhrwikBRS1R",
      "include_colab_link": true
    },
    "kernelspec": {
      "display_name": "Python 3",
      "name": "python3"
    },
    "language_info": {
      "name": "python"
    }
  },
  "nbformat": 4,
  "nbformat_minor": 0
}